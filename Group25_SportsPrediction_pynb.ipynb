{
  "nbformat": 4,
  "nbformat_minor": 0,
  "metadata": {
    "colab": {
      "provenance": []
    },
    "kernelspec": {
      "name": "python3",
      "display_name": "Python 3"
    },
    "language_info": {
      "name": "python"
    }
  },
  "cells": [
    {
      "cell_type": "markdown",
      "source": [
        "Import pickle library for serializing and deserializing python object structures"
      ],
      "metadata": {
        "id": "9Ktywa1bz4mo"
      }
    },
    {
      "cell_type": "code",
      "source": [
        "import pickle as pk\n"
      ],
      "metadata": {
        "id": "pUsSMrVFeXnh"
      },
      "execution_count": null,
      "outputs": []
    },
    {
      "cell_type": "markdown",
      "source": [
        "Importing drive module from google colab and mounting google drive to access the datasets."
      ],
      "metadata": {
        "id": "r6Ih9Cvm0hvq"
      }
    },
    {
      "cell_type": "code",
      "execution_count": null,
      "metadata": {
        "id": "ZR_IdftdWq7O",
        "colab": {
          "base_uri": "https://localhost:8080/"
        },
        "outputId": "0ee3659e-c04a-4b42-e817-e38cdb4d6f39"
      },
      "outputs": [
        {
          "output_type": "stream",
          "name": "stdout",
          "text": [
            "Drive already mounted at /content/drive; to attempt to forcibly remount, call drive.mount(\"/content/drive\", force_remount=True).\n"
          ]
        }
      ],
      "source": [
        "from google.colab import drive\n",
        "drive.mount('/content/drive')"
      ]
    },
    {
      "cell_type": "markdown",
      "source": [
        "Importing numpy and pandas for data analysis"
      ],
      "metadata": {
        "id": "VvRicwnF1aZG"
      }
    },
    {
      "cell_type": "code",
      "source": [
        "import numpy as np\n",
        "import pandas as pd"
      ],
      "metadata": {
        "id": "5PF5khOFYiDF"
      },
      "execution_count": null,
      "outputs": []
    },
    {
      "cell_type": "markdown",
      "source": [
        "Reading the data from CSV files"
      ],
      "metadata": {
        "id": "aw7lzmR6Y0Aj"
      }
    },
    {
      "cell_type": "code",
      "source": [
        "data = pd.read_csv('/content/drive/My Drive/Colab Notebooks/Intro to AI/players_21.csv')"
      ],
      "metadata": {
        "id": "nn5_Aiq8YlJR"
      },
      "execution_count": null,
      "outputs": []
    },
    {
      "cell_type": "code",
      "source": [
        "dataset = pd.read_csv('/content/drive/My Drive/Colab Notebooks/Intro to AI/players_22.csv')"
      ],
      "metadata": {
        "id": "bpxt8tVjrQ44",
        "colab": {
          "base_uri": "https://localhost:8080/"
        },
        "outputId": "fcdc6713-2bad-42e2-d6c4-55da5b7d70d9"
      },
      "execution_count": null,
      "outputs": [
        {
          "output_type": "stream",
          "name": "stderr",
          "text": [
            "<ipython-input-56-822e9eed5024>:1: DtypeWarning: Columns (25,108) have mixed types. Specify dtype option on import or set low_memory=False.\n",
            "  dataset = pd.read_csv('/content/drive/My Drive/Colab Notebooks/Intro to AI/players_22.csv')\n"
          ]
        }
      ]
    },
    {
      "cell_type": "markdown",
      "source": [
        "Displaying the first 5 rows of dataframe, data."
      ],
      "metadata": {
        "id": "4SX2n0QOZITJ"
      }
    },
    {
      "cell_type": "code",
      "source": [
        "data.head()"
      ],
      "metadata": {
        "id": "Y9d0wlbvY4NM",
        "colab": {
          "base_uri": "https://localhost:8080/",
          "height": 429
        },
        "outputId": "2a8e135d-648b-4cea-c8a1-226a58181f8d"
      },
      "execution_count": null,
      "outputs": [
        {
          "output_type": "execute_result",
          "data": {
            "text/plain": [
              "   sofifa_id                                         player_url  \\\n",
              "0     158023  https://sofifa.com/player/158023/lionel-messi/...   \n",
              "1      20801  https://sofifa.com/player/20801/c-ronaldo-dos-...   \n",
              "2     188545  https://sofifa.com/player/188545/robert-lewand...   \n",
              "3     190871  https://sofifa.com/player/190871/neymar-da-sil...   \n",
              "4     192985  https://sofifa.com/player/192985/kevin-de-bruy...   \n",
              "\n",
              "          short_name                            long_name player_positions  \\\n",
              "0           L. Messi       Lionel Andrés Messi Cuccittini       RW, ST, CF   \n",
              "1  Cristiano Ronaldo  Cristiano Ronaldo dos Santos Aveiro           ST, LW   \n",
              "2     R. Lewandowski                   Robert Lewandowski               ST   \n",
              "3          Neymar Jr        Neymar da Silva Santos Júnior          LW, CAM   \n",
              "4       K. De Bruyne                      Kevin De Bruyne          CAM, CM   \n",
              "\n",
              "   overall  potential    value_eur  wage_eur  age  ...   lcb    cb   rcb  \\\n",
              "0       93         93  103500000.0  560000.0   33  ...  52+3  52+3  52+3   \n",
              "1       92         92   63000000.0  220000.0   35  ...  54+3  54+3  54+3   \n",
              "2       91         91  111000000.0  240000.0   31  ...  60+3  60+3  60+3   \n",
              "3       91         91  132000000.0  270000.0   28  ...  49+3  49+3  49+3   \n",
              "4       91         91  129000000.0  370000.0   29  ...  69+3  69+3  69+3   \n",
              "\n",
              "     rb    gk                                    player_face_url  \\\n",
              "0  62+3  19+3  https://cdn.sofifa.net/players/158/023/21_120.png   \n",
              "1  61+3  20+3  https://cdn.sofifa.net/players/020/801/21_120.png   \n",
              "2  61+3  19+3  https://cdn.sofifa.net/players/188/545/21_120.png   \n",
              "3  62+3  20+3  https://cdn.sofifa.net/players/190/871/21_120.png   \n",
              "4  75+3  21+3  https://cdn.sofifa.net/players/192/985/21_120.png   \n",
              "\n",
              "                             club_logo_url  \\\n",
              "0  https://cdn.sofifa.net/teams/241/60.png   \n",
              "1   https://cdn.sofifa.net/teams/45/60.png   \n",
              "2   https://cdn.sofifa.net/teams/21/60.png   \n",
              "3   https://cdn.sofifa.net/teams/73/60.png   \n",
              "4   https://cdn.sofifa.net/teams/10/60.png   \n",
              "\n",
              "                             club_flag_url  \\\n",
              "0      https://cdn.sofifa.net/flags/es.png   \n",
              "1      https://cdn.sofifa.net/flags/it.png   \n",
              "2      https://cdn.sofifa.net/flags/de.png   \n",
              "3      https://cdn.sofifa.net/flags/fr.png   \n",
              "4  https://cdn.sofifa.net/flags/gb-eng.png   \n",
              "\n",
              "                            nation_logo_url  \\\n",
              "0  https://cdn.sofifa.net/teams/1369/60.png   \n",
              "1  https://cdn.sofifa.net/teams/1354/60.png   \n",
              "2                                       NaN   \n",
              "3                                       NaN   \n",
              "4  https://cdn.sofifa.net/teams/1325/60.png   \n",
              "\n",
              "                       nation_flag_url  \n",
              "0  https://cdn.sofifa.net/flags/ar.png  \n",
              "1  https://cdn.sofifa.net/flags/pt.png  \n",
              "2  https://cdn.sofifa.net/flags/pl.png  \n",
              "3  https://cdn.sofifa.net/flags/br.png  \n",
              "4  https://cdn.sofifa.net/flags/be.png  \n",
              "\n",
              "[5 rows x 110 columns]"
            ],
            "text/html": [
              "\n",
              "  <div id=\"df-6152a5cb-3e84-4c3d-b1b0-d1c02063a9a2\" class=\"colab-df-container\">\n",
              "    <div>\n",
              "<style scoped>\n",
              "    .dataframe tbody tr th:only-of-type {\n",
              "        vertical-align: middle;\n",
              "    }\n",
              "\n",
              "    .dataframe tbody tr th {\n",
              "        vertical-align: top;\n",
              "    }\n",
              "\n",
              "    .dataframe thead th {\n",
              "        text-align: right;\n",
              "    }\n",
              "</style>\n",
              "<table border=\"1\" class=\"dataframe\">\n",
              "  <thead>\n",
              "    <tr style=\"text-align: right;\">\n",
              "      <th></th>\n",
              "      <th>sofifa_id</th>\n",
              "      <th>player_url</th>\n",
              "      <th>short_name</th>\n",
              "      <th>long_name</th>\n",
              "      <th>player_positions</th>\n",
              "      <th>overall</th>\n",
              "      <th>potential</th>\n",
              "      <th>value_eur</th>\n",
              "      <th>wage_eur</th>\n",
              "      <th>age</th>\n",
              "      <th>...</th>\n",
              "      <th>lcb</th>\n",
              "      <th>cb</th>\n",
              "      <th>rcb</th>\n",
              "      <th>rb</th>\n",
              "      <th>gk</th>\n",
              "      <th>player_face_url</th>\n",
              "      <th>club_logo_url</th>\n",
              "      <th>club_flag_url</th>\n",
              "      <th>nation_logo_url</th>\n",
              "      <th>nation_flag_url</th>\n",
              "    </tr>\n",
              "  </thead>\n",
              "  <tbody>\n",
              "    <tr>\n",
              "      <th>0</th>\n",
              "      <td>158023</td>\n",
              "      <td>https://sofifa.com/player/158023/lionel-messi/...</td>\n",
              "      <td>L. Messi</td>\n",
              "      <td>Lionel Andrés Messi Cuccittini</td>\n",
              "      <td>RW, ST, CF</td>\n",
              "      <td>93</td>\n",
              "      <td>93</td>\n",
              "      <td>103500000.0</td>\n",
              "      <td>560000.0</td>\n",
              "      <td>33</td>\n",
              "      <td>...</td>\n",
              "      <td>52+3</td>\n",
              "      <td>52+3</td>\n",
              "      <td>52+3</td>\n",
              "      <td>62+3</td>\n",
              "      <td>19+3</td>\n",
              "      <td>https://cdn.sofifa.net/players/158/023/21_120.png</td>\n",
              "      <td>https://cdn.sofifa.net/teams/241/60.png</td>\n",
              "      <td>https://cdn.sofifa.net/flags/es.png</td>\n",
              "      <td>https://cdn.sofifa.net/teams/1369/60.png</td>\n",
              "      <td>https://cdn.sofifa.net/flags/ar.png</td>\n",
              "    </tr>\n",
              "    <tr>\n",
              "      <th>1</th>\n",
              "      <td>20801</td>\n",
              "      <td>https://sofifa.com/player/20801/c-ronaldo-dos-...</td>\n",
              "      <td>Cristiano Ronaldo</td>\n",
              "      <td>Cristiano Ronaldo dos Santos Aveiro</td>\n",
              "      <td>ST, LW</td>\n",
              "      <td>92</td>\n",
              "      <td>92</td>\n",
              "      <td>63000000.0</td>\n",
              "      <td>220000.0</td>\n",
              "      <td>35</td>\n",
              "      <td>...</td>\n",
              "      <td>54+3</td>\n",
              "      <td>54+3</td>\n",
              "      <td>54+3</td>\n",
              "      <td>61+3</td>\n",
              "      <td>20+3</td>\n",
              "      <td>https://cdn.sofifa.net/players/020/801/21_120.png</td>\n",
              "      <td>https://cdn.sofifa.net/teams/45/60.png</td>\n",
              "      <td>https://cdn.sofifa.net/flags/it.png</td>\n",
              "      <td>https://cdn.sofifa.net/teams/1354/60.png</td>\n",
              "      <td>https://cdn.sofifa.net/flags/pt.png</td>\n",
              "    </tr>\n",
              "    <tr>\n",
              "      <th>2</th>\n",
              "      <td>188545</td>\n",
              "      <td>https://sofifa.com/player/188545/robert-lewand...</td>\n",
              "      <td>R. Lewandowski</td>\n",
              "      <td>Robert Lewandowski</td>\n",
              "      <td>ST</td>\n",
              "      <td>91</td>\n",
              "      <td>91</td>\n",
              "      <td>111000000.0</td>\n",
              "      <td>240000.0</td>\n",
              "      <td>31</td>\n",
              "      <td>...</td>\n",
              "      <td>60+3</td>\n",
              "      <td>60+3</td>\n",
              "      <td>60+3</td>\n",
              "      <td>61+3</td>\n",
              "      <td>19+3</td>\n",
              "      <td>https://cdn.sofifa.net/players/188/545/21_120.png</td>\n",
              "      <td>https://cdn.sofifa.net/teams/21/60.png</td>\n",
              "      <td>https://cdn.sofifa.net/flags/de.png</td>\n",
              "      <td>NaN</td>\n",
              "      <td>https://cdn.sofifa.net/flags/pl.png</td>\n",
              "    </tr>\n",
              "    <tr>\n",
              "      <th>3</th>\n",
              "      <td>190871</td>\n",
              "      <td>https://sofifa.com/player/190871/neymar-da-sil...</td>\n",
              "      <td>Neymar Jr</td>\n",
              "      <td>Neymar da Silva Santos Júnior</td>\n",
              "      <td>LW, CAM</td>\n",
              "      <td>91</td>\n",
              "      <td>91</td>\n",
              "      <td>132000000.0</td>\n",
              "      <td>270000.0</td>\n",
              "      <td>28</td>\n",
              "      <td>...</td>\n",
              "      <td>49+3</td>\n",
              "      <td>49+3</td>\n",
              "      <td>49+3</td>\n",
              "      <td>62+3</td>\n",
              "      <td>20+3</td>\n",
              "      <td>https://cdn.sofifa.net/players/190/871/21_120.png</td>\n",
              "      <td>https://cdn.sofifa.net/teams/73/60.png</td>\n",
              "      <td>https://cdn.sofifa.net/flags/fr.png</td>\n",
              "      <td>NaN</td>\n",
              "      <td>https://cdn.sofifa.net/flags/br.png</td>\n",
              "    </tr>\n",
              "    <tr>\n",
              "      <th>4</th>\n",
              "      <td>192985</td>\n",
              "      <td>https://sofifa.com/player/192985/kevin-de-bruy...</td>\n",
              "      <td>K. De Bruyne</td>\n",
              "      <td>Kevin De Bruyne</td>\n",
              "      <td>CAM, CM</td>\n",
              "      <td>91</td>\n",
              "      <td>91</td>\n",
              "      <td>129000000.0</td>\n",
              "      <td>370000.0</td>\n",
              "      <td>29</td>\n",
              "      <td>...</td>\n",
              "      <td>69+3</td>\n",
              "      <td>69+3</td>\n",
              "      <td>69+3</td>\n",
              "      <td>75+3</td>\n",
              "      <td>21+3</td>\n",
              "      <td>https://cdn.sofifa.net/players/192/985/21_120.png</td>\n",
              "      <td>https://cdn.sofifa.net/teams/10/60.png</td>\n",
              "      <td>https://cdn.sofifa.net/flags/gb-eng.png</td>\n",
              "      <td>https://cdn.sofifa.net/teams/1325/60.png</td>\n",
              "      <td>https://cdn.sofifa.net/flags/be.png</td>\n",
              "    </tr>\n",
              "  </tbody>\n",
              "</table>\n",
              "<p>5 rows × 110 columns</p>\n",
              "</div>\n",
              "    <div class=\"colab-df-buttons\">\n",
              "\n",
              "  <div class=\"colab-df-container\">\n",
              "    <button class=\"colab-df-convert\" onclick=\"convertToInteractive('df-6152a5cb-3e84-4c3d-b1b0-d1c02063a9a2')\"\n",
              "            title=\"Convert this dataframe to an interactive table.\"\n",
              "            style=\"display:none;\">\n",
              "\n",
              "  <svg xmlns=\"http://www.w3.org/2000/svg\" height=\"24px\" viewBox=\"0 -960 960 960\">\n",
              "    <path d=\"M120-120v-720h720v720H120Zm60-500h600v-160H180v160Zm220 220h160v-160H400v160Zm0 220h160v-160H400v160ZM180-400h160v-160H180v160Zm440 0h160v-160H620v160ZM180-180h160v-160H180v160Zm440 0h160v-160H620v160Z\"/>\n",
              "  </svg>\n",
              "    </button>\n",
              "\n",
              "  <style>\n",
              "    .colab-df-container {\n",
              "      display:flex;\n",
              "      gap: 12px;\n",
              "    }\n",
              "\n",
              "    .colab-df-convert {\n",
              "      background-color: #E8F0FE;\n",
              "      border: none;\n",
              "      border-radius: 50%;\n",
              "      cursor: pointer;\n",
              "      display: none;\n",
              "      fill: #1967D2;\n",
              "      height: 32px;\n",
              "      padding: 0 0 0 0;\n",
              "      width: 32px;\n",
              "    }\n",
              "\n",
              "    .colab-df-convert:hover {\n",
              "      background-color: #E2EBFA;\n",
              "      box-shadow: 0px 1px 2px rgba(60, 64, 67, 0.3), 0px 1px 3px 1px rgba(60, 64, 67, 0.15);\n",
              "      fill: #174EA6;\n",
              "    }\n",
              "\n",
              "    .colab-df-buttons div {\n",
              "      margin-bottom: 4px;\n",
              "    }\n",
              "\n",
              "    [theme=dark] .colab-df-convert {\n",
              "      background-color: #3B4455;\n",
              "      fill: #D2E3FC;\n",
              "    }\n",
              "\n",
              "    [theme=dark] .colab-df-convert:hover {\n",
              "      background-color: #434B5C;\n",
              "      box-shadow: 0px 1px 3px 1px rgba(0, 0, 0, 0.15);\n",
              "      filter: drop-shadow(0px 1px 2px rgba(0, 0, 0, 0.3));\n",
              "      fill: #FFFFFF;\n",
              "    }\n",
              "  </style>\n",
              "\n",
              "    <script>\n",
              "      const buttonEl =\n",
              "        document.querySelector('#df-6152a5cb-3e84-4c3d-b1b0-d1c02063a9a2 button.colab-df-convert');\n",
              "      buttonEl.style.display =\n",
              "        google.colab.kernel.accessAllowed ? 'block' : 'none';\n",
              "\n",
              "      async function convertToInteractive(key) {\n",
              "        const element = document.querySelector('#df-6152a5cb-3e84-4c3d-b1b0-d1c02063a9a2');\n",
              "        const dataTable =\n",
              "          await google.colab.kernel.invokeFunction('convertToInteractive',\n",
              "                                                    [key], {});\n",
              "        if (!dataTable) return;\n",
              "\n",
              "        const docLinkHtml = 'Like what you see? Visit the ' +\n",
              "          '<a target=\"_blank\" href=https://colab.research.google.com/notebooks/data_table.ipynb>data table notebook</a>'\n",
              "          + ' to learn more about interactive tables.';\n",
              "        element.innerHTML = '';\n",
              "        dataTable['output_type'] = 'display_data';\n",
              "        await google.colab.output.renderOutput(dataTable, element);\n",
              "        const docLink = document.createElement('div');\n",
              "        docLink.innerHTML = docLinkHtml;\n",
              "        element.appendChild(docLink);\n",
              "      }\n",
              "    </script>\n",
              "  </div>\n",
              "\n",
              "\n",
              "<div id=\"df-6e26a9c5-bb52-4925-acac-3890a3b6472d\">\n",
              "  <button class=\"colab-df-quickchart\" onclick=\"quickchart('df-6e26a9c5-bb52-4925-acac-3890a3b6472d')\"\n",
              "            title=\"Suggest charts.\"\n",
              "            style=\"display:none;\">\n",
              "\n",
              "<svg xmlns=\"http://www.w3.org/2000/svg\" height=\"24px\"viewBox=\"0 0 24 24\"\n",
              "     width=\"24px\">\n",
              "    <g>\n",
              "        <path d=\"M19 3H5c-1.1 0-2 .9-2 2v14c0 1.1.9 2 2 2h14c1.1 0 2-.9 2-2V5c0-1.1-.9-2-2-2zM9 17H7v-7h2v7zm4 0h-2V7h2v10zm4 0h-2v-4h2v4z\"/>\n",
              "    </g>\n",
              "</svg>\n",
              "  </button>\n",
              "\n",
              "<style>\n",
              "  .colab-df-quickchart {\n",
              "      --bg-color: #E8F0FE;\n",
              "      --fill-color: #1967D2;\n",
              "      --hover-bg-color: #E2EBFA;\n",
              "      --hover-fill-color: #174EA6;\n",
              "      --disabled-fill-color: #AAA;\n",
              "      --disabled-bg-color: #DDD;\n",
              "  }\n",
              "\n",
              "  [theme=dark] .colab-df-quickchart {\n",
              "      --bg-color: #3B4455;\n",
              "      --fill-color: #D2E3FC;\n",
              "      --hover-bg-color: #434B5C;\n",
              "      --hover-fill-color: #FFFFFF;\n",
              "      --disabled-bg-color: #3B4455;\n",
              "      --disabled-fill-color: #666;\n",
              "  }\n",
              "\n",
              "  .colab-df-quickchart {\n",
              "    background-color: var(--bg-color);\n",
              "    border: none;\n",
              "    border-radius: 50%;\n",
              "    cursor: pointer;\n",
              "    display: none;\n",
              "    fill: var(--fill-color);\n",
              "    height: 32px;\n",
              "    padding: 0;\n",
              "    width: 32px;\n",
              "  }\n",
              "\n",
              "  .colab-df-quickchart:hover {\n",
              "    background-color: var(--hover-bg-color);\n",
              "    box-shadow: 0 1px 2px rgba(60, 64, 67, 0.3), 0 1px 3px 1px rgba(60, 64, 67, 0.15);\n",
              "    fill: var(--button-hover-fill-color);\n",
              "  }\n",
              "\n",
              "  .colab-df-quickchart-complete:disabled,\n",
              "  .colab-df-quickchart-complete:disabled:hover {\n",
              "    background-color: var(--disabled-bg-color);\n",
              "    fill: var(--disabled-fill-color);\n",
              "    box-shadow: none;\n",
              "  }\n",
              "\n",
              "  .colab-df-spinner {\n",
              "    border: 2px solid var(--fill-color);\n",
              "    border-color: transparent;\n",
              "    border-bottom-color: var(--fill-color);\n",
              "    animation:\n",
              "      spin 1s steps(1) infinite;\n",
              "  }\n",
              "\n",
              "  @keyframes spin {\n",
              "    0% {\n",
              "      border-color: transparent;\n",
              "      border-bottom-color: var(--fill-color);\n",
              "      border-left-color: var(--fill-color);\n",
              "    }\n",
              "    20% {\n",
              "      border-color: transparent;\n",
              "      border-left-color: var(--fill-color);\n",
              "      border-top-color: var(--fill-color);\n",
              "    }\n",
              "    30% {\n",
              "      border-color: transparent;\n",
              "      border-left-color: var(--fill-color);\n",
              "      border-top-color: var(--fill-color);\n",
              "      border-right-color: var(--fill-color);\n",
              "    }\n",
              "    40% {\n",
              "      border-color: transparent;\n",
              "      border-right-color: var(--fill-color);\n",
              "      border-top-color: var(--fill-color);\n",
              "    }\n",
              "    60% {\n",
              "      border-color: transparent;\n",
              "      border-right-color: var(--fill-color);\n",
              "    }\n",
              "    80% {\n",
              "      border-color: transparent;\n",
              "      border-right-color: var(--fill-color);\n",
              "      border-bottom-color: var(--fill-color);\n",
              "    }\n",
              "    90% {\n",
              "      border-color: transparent;\n",
              "      border-bottom-color: var(--fill-color);\n",
              "    }\n",
              "  }\n",
              "</style>\n",
              "\n",
              "  <script>\n",
              "    async function quickchart(key) {\n",
              "      const quickchartButtonEl =\n",
              "        document.querySelector('#' + key + ' button');\n",
              "      quickchartButtonEl.disabled = true;  // To prevent multiple clicks.\n",
              "      quickchartButtonEl.classList.add('colab-df-spinner');\n",
              "      try {\n",
              "        const charts = await google.colab.kernel.invokeFunction(\n",
              "            'suggestCharts', [key], {});\n",
              "      } catch (error) {\n",
              "        console.error('Error during call to suggestCharts:', error);\n",
              "      }\n",
              "      quickchartButtonEl.classList.remove('colab-df-spinner');\n",
              "      quickchartButtonEl.classList.add('colab-df-quickchart-complete');\n",
              "    }\n",
              "    (() => {\n",
              "      let quickchartButtonEl =\n",
              "        document.querySelector('#df-6e26a9c5-bb52-4925-acac-3890a3b6472d button');\n",
              "      quickchartButtonEl.style.display =\n",
              "        google.colab.kernel.accessAllowed ? 'block' : 'none';\n",
              "    })();\n",
              "  </script>\n",
              "</div>\n",
              "    </div>\n",
              "  </div>\n"
            ]
          },
          "metadata": {},
          "execution_count": 13
        }
      ]
    },
    {
      "cell_type": "markdown",
      "source": [
        "Checking the type of values for the 'overall' column"
      ],
      "metadata": {
        "id": "WLuAANPOcXSW"
      }
    },
    {
      "cell_type": "code",
      "source": [
        "data['overall']"
      ],
      "metadata": {
        "id": "tYHZGgtslHxr",
        "colab": {
          "base_uri": "https://localhost:8080/"
        },
        "outputId": "28ff0346-17e3-4013-98a5-3aafb90598b5"
      },
      "execution_count": null,
      "outputs": [
        {
          "output_type": "execute_result",
          "data": {
            "text/plain": [
              "0        93\n",
              "1        92\n",
              "2        91\n",
              "3        91\n",
              "4        91\n",
              "         ..\n",
              "18939    47\n",
              "18940    47\n",
              "18941    47\n",
              "18942    47\n",
              "18943    47\n",
              "Name: overall, Length: 18944, dtype: int64"
            ]
          },
          "metadata": {},
          "execution_count": 15
        }
      ]
    },
    {
      "cell_type": "markdown",
      "source": [
        "Creating a list of columns to encode the categorical features using one-hot encoding in the dataset"
      ],
      "metadata": {
        "id": "KX3xTaep3HAu"
      }
    },
    {
      "cell_type": "code",
      "source": [
        "columns_to_encode = []\n",
        "for column in data.columns:\n",
        "  if data[column].dtype == object:\n",
        "    columns_to_encode.append(column)\n",
        "# Use get_dummies with dummy_na=True\n",
        "df_encoded= pd.get_dummies(columns_to_encode, prefix = \"encoded_\", dummy_na=True)\n",
        "data.drop(columns_to_encode, axis = 1, inplace = True)\n",
        "data = pd.concat([data, df_encoded], axis=1)\n"
      ],
      "metadata": {
        "id": "dBYranPEXyl-"
      },
      "execution_count": null,
      "outputs": []
    },
    {
      "cell_type": "markdown",
      "source": [
        "Importing the SimpleImputer class from the scikit-learn library,which is used for handling missing data in machine learning datasets."
      ],
      "metadata": {
        "id": "zZH61iv_4AH5"
      }
    },
    {
      "cell_type": "code",
      "source": [
        "from sklearn.impute import SimpleImputer"
      ],
      "metadata": {
        "id": "XVmyKWSgGBy1"
      },
      "execution_count": null,
      "outputs": []
    },
    {
      "cell_type": "markdown",
      "source": [
        "Iterating through each column in the DataFrame 'data' and determining whether the percentage of missing values in the column exceeds 30% of the total number of rows. If it exceeds the threshold, remove the column from the 'data' DataFrame.This technique is used to delete columns that have a significant percentage of missing data and may be useless for analysis.\n"
      ],
      "metadata": {
        "id": "0VCVu9oW4fzx"
      }
    },
    {
      "cell_type": "code",
      "source": [
        "for column in data.columns:\n",
        "    if data[column].isna().sum() > 0.3 * len(data):\n",
        "        data.drop(column, axis=1, inplace=True)"
      ],
      "metadata": {
        "id": "Q6ggd37KZz0o"
      },
      "execution_count": null,
      "outputs": []
    },
    {
      "cell_type": "markdown",
      "source": [
        "Storing the list of column names"
      ],
      "metadata": {
        "id": "yKbkbBLx6jsy"
      }
    },
    {
      "cell_type": "code",
      "source": [
        "columns = data.columns"
      ],
      "metadata": {
        "id": "gOzyHInibMW2"
      },
      "execution_count": null,
      "outputs": []
    },
    {
      "cell_type": "markdown",
      "source": [
        "Create a SimpleImputer object called 'imputer\n"
      ],
      "metadata": {
        "id": "nb_z2nL3-qmv"
      }
    },
    {
      "cell_type": "code",
      "source": [
        "imputer = SimpleImputer()"
      ],
      "metadata": {
        "id": "JP-AMbrcDk8n"
      },
      "execution_count": null,
      "outputs": []
    },
    {
      "cell_type": "markdown",
      "source": [
        "Converted column names to strings for consistency"
      ],
      "metadata": {
        "id": "O3JMKSzP-ufy"
      }
    },
    {
      "cell_type": "code",
      "source": [
        "data.columns = data.columns.astype(str)"
      ],
      "metadata": {
        "id": "u8Ty-c5vasx8"
      },
      "execution_count": null,
      "outputs": []
    },
    {
      "cell_type": "markdown",
      "source": [
        "Imputing the data to handle missing values\n"
      ],
      "metadata": {
        "id": "WQYrMPfc_KVQ"
      }
    },
    {
      "cell_type": "code",
      "source": [
        "imputer.fit(data)\n",
        "data =imputer.fit_transform(data)\n",
        "data = pd.DataFrame(data, columns = columns)"
      ],
      "metadata": {
        "id": "u6RWNEv7KzYT"
      },
      "execution_count": null,
      "outputs": []
    },
    {
      "cell_type": "markdown",
      "source": [
        "Creating new subset columns in data by calculating the mean of specific groups of columns by aggregating related features into average values for further analysis or modeling."
      ],
      "metadata": {
        "id": "TekcCcvLZ3M2"
      }
    },
    {
      "cell_type": "code",
      "source": [
        "data['goalkeeping_average'] = data[['goalkeeping_diving', 'goalkeeping_handling', 'goalkeeping_kicking', 'goalkeeping_positioning', 'goalkeeping_reflexes']].mean(axis =1)\n",
        "data['attacking'] = data[['attacking_crossing', 'attacking_finishing', 'attacking_heading_accuracy',\n",
        "                                'attacking_short_passing', 'attacking_volleys']].mean(axis =1)\n",
        "data['defending_average'] = data[['defending_marking_awareness', 'defending_standing_tackle', 'defending_sliding_tackle' ]].mean(axis =1)\n",
        "data['skill'] = data[['skill_dribbling','skill_curve','skill_fk_accuracy','skill_long_passing','skill_ball_control']].mean(axis =1)\n",
        "data['power_average'] = data[['power_shot_power', 'power_jumping', 'power_stamina',\n",
        "                                'power_strength', 'power_long_shots' ]].mean(axis =1)\n",
        "data['movement_average'] = data[['movement_acceleration', 'movement_sprint_speed', 'movement_agility',\n",
        "                                'movement_reactions', 'movement_balance']].mean(axis =1)\n",
        "data['goalkeeping_average'] = data[['goalkeeping_diving', 'goalkeeping_diving', 'goalkeeping_kicking',\n",
        "                                'goalkeeping_positioning', 'goalkeeping_reflexes','goalkeeping_handling']].mean(axis =1)\n",
        "data['wage_to_value_ratio'] = data['value_eur'] / data['wage_eur']\n"
      ],
      "metadata": {
        "id": "XgcDhTb9RT9W"
      },
      "execution_count": null,
      "outputs": []
    },
    {
      "cell_type": "markdown",
      "source": [
        "Usign correlation to determine the features that have a strong relationship\n",
        "with the target(\"overall\")"
      ],
      "metadata": {
        "id": "tsE-901zczoa"
      }
    },
    {
      "cell_type": "code",
      "source": [
        "correlations = data.corrwith(data['overall'])\n",
        "correlation_pairs = list(zip(data.columns, correlations)) # A list of tuples containing column names and their correlation coefficients with the target variable.\n"
      ],
      "metadata": {
        "id": "CYtrnsk4N4nO"
      },
      "execution_count": null,
      "outputs": []
    },
    {
      "cell_type": "markdown",
      "source": [
        "This code filters columns from the DataFrame 'data' based on their correlation with the target variable.\n",
        "It removes columns where the correlation coefficient with the target variable is less than 0.5."
      ],
      "metadata": {
        "id": "R4__DpxVEhtB"
      }
    },
    {
      "cell_type": "code",
      "source": [
        "for item in correlation_pairs:\n",
        "  column_name, value = item\n",
        "  if value <0.4:\n",
        "    data.drop([column_name],axis =1, inplace = True)"
      ],
      "metadata": {
        "id": "svHtbX7s-6gS"
      },
      "execution_count": null,
      "outputs": []
    },
    {
      "cell_type": "code",
      "source": [
        "data.corrwith(data['overall'])"
      ],
      "metadata": {
        "colab": {
          "base_uri": "https://localhost:8080/"
        },
        "id": "DvMcFwz6wn2J",
        "outputId": "aed9157e-47f6-41a3-9b9f-b86915bc4a55"
      },
      "execution_count": null,
      "outputs": [
        {
          "output_type": "execute_result",
          "data": {
            "text/plain": [
              "overall                     1.000000\n",
              "potential                   0.636366\n",
              "value_eur                   0.555192\n",
              "wage_eur                    0.589060\n",
              "age                         0.468197\n",
              "international_reputation    0.440987\n",
              "release_clause_eur          0.614344\n",
              "shooting                    0.454391\n",
              "passing                     0.662090\n",
              "dribbling                   0.596558\n",
              "physic                      0.493539\n",
              "attacking_crossing          0.410530\n",
              "attacking_short_passing     0.502191\n",
              "skill_curve                 0.420495\n",
              "skill_long_passing          0.487147\n",
              "skill_ball_control          0.449372\n",
              "movement_reactions          0.867234\n",
              "power_shot_power            0.558372\n",
              "power_long_shots            0.407525\n",
              "mentality_aggression        0.401920\n",
              "mentality_vision            0.509087\n",
              "mentality_composure         0.705252\n",
              "attacking                   0.448867\n",
              "skill                       0.460716\n",
              "power_average               0.574300\n",
              "dtype: float64"
            ]
          },
          "metadata": {},
          "execution_count": 29
        }
      ]
    },
    {
      "cell_type": "markdown",
      "source": [
        "Dropping the features that are repeated"
      ],
      "metadata": {
        "id": "_a1JzE31yOCC"
      }
    },
    {
      "cell_type": "code",
      "source": [
        "data.drop(['skill_curve', 'skill_long_passing', 'skill_ball_control','attacking_crossing', 'attacking_short_passing','power_shot_power',\n",
        "           'power_long_shots'], axis = 1, inplace = True)"
      ],
      "metadata": {
        "id": "pUfGxFfhyhP5"
      },
      "execution_count": null,
      "outputs": []
    },
    {
      "cell_type": "code",
      "source": [
        "data.columns"
      ],
      "metadata": {
        "colab": {
          "base_uri": "https://localhost:8080/"
        },
        "id": "BnaDK6SKzSef",
        "outputId": "d2d2cb28-7da7-493f-b2d7-80cf84e09fc4"
      },
      "execution_count": null,
      "outputs": [
        {
          "output_type": "execute_result",
          "data": {
            "text/plain": [
              "Index(['overall', 'potential', 'value_eur', 'wage_eur', 'age',\n",
              "       'international_reputation', 'release_clause_eur', 'shooting', 'passing',\n",
              "       'dribbling', 'physic', 'movement_reactions', 'mentality_aggression',\n",
              "       'mentality_vision', 'mentality_composure', 'attacking', 'skill',\n",
              "       'power_average'],\n",
              "      dtype='object')"
            ]
          },
          "metadata": {},
          "execution_count": 31
        }
      ]
    },
    {
      "cell_type": "markdown",
      "source": [
        "Scaling the data using MinMaxScaler"
      ],
      "metadata": {
        "id": "3lFnJ4r_QAIm"
      }
    },
    {
      "cell_type": "code",
      "source": [
        "y = data['overall']\n",
        "x = data.drop('overall', axis = 1)"
      ],
      "metadata": {
        "id": "zTBf9dpOP-_x"
      },
      "execution_count": null,
      "outputs": []
    },
    {
      "cell_type": "code",
      "source": [
        "from sklearn.preprocessing import MinMaxScaler\n",
        "scaler = MinMaxScaler()\n",
        "columns_x = x.columns\n",
        "x = scaler.fit_transform(x)\n",
        "x =pd.DataFrame(x, columns = columns_x)"
      ],
      "metadata": {
        "id": "t-fV7F4tQKbK"
      },
      "execution_count": null,
      "outputs": []
    },
    {
      "cell_type": "markdown",
      "source": [
        "Saving the scaler model for future use\n"
      ],
      "metadata": {
        "id": "nnuFR8h8V5Kl"
      }
    },
    {
      "cell_type": "code",
      "source": [
        "with open('/content/drive/My Drive/Colab Notebooks/Intro to AI/scaler1_model.pkl', 'wb') as scaler_file:\n",
        "    pk.dump(scaler, scaler_file)"
      ],
      "metadata": {
        "id": "rqbiLeBhV4kp"
      },
      "execution_count": null,
      "outputs": []
    },
    {
      "cell_type": "code",
      "source": [
        "from sklearn.model_selection import train_test_split,GridSearchCV,cross_val_predict, KFold"
      ],
      "metadata": {
        "id": "7bhVReY_P8la"
      },
      "execution_count": null,
      "outputs": []
    },
    {
      "cell_type": "markdown",
      "source": [
        "Importing modules needed for model training and evaluation"
      ],
      "metadata": {
        "id": "ole5GefyZPvF"
      }
    },
    {
      "cell_type": "code",
      "source": [
        "from sklearn.ensemble import RandomForestRegressor\n",
        "from sklearn.tree import DecisionTreeRegressor\n",
        "from sklearn.ensemble import GradientBoostingRegressor\n",
        "from sklearn.metrics import mean_absolute_error, mean_squared_error"
      ],
      "metadata": {
        "id": "-uoV4wBcjhHz"
      },
      "execution_count": null,
      "outputs": []
    },
    {
      "cell_type": "markdown",
      "source": [
        "Defining the learning models that will be trained"
      ],
      "metadata": {
        "id": "xgH56S9BCsO_"
      }
    },
    {
      "cell_type": "code",
      "source": [
        "rfr = RandomForestRegressor()\n",
        "dtr = DecisionTreeRegressor()\n",
        "gbr = GradientBoostingRegressor()"
      ],
      "metadata": {
        "id": "E6LbguZFjy7J"
      },
      "execution_count": null,
      "outputs": []
    },
    {
      "cell_type": "code",
      "source": [
        "models = {\n",
        "    \"Random Forest\": rfr,\n",
        "    \"Decision Tree\": dtr,\n",
        "    \"Gradient Boost\": gbr\n",
        "}\n",
        "mae_score= {} # a dictionary to store the models and a list of their mean absolute error"
      ],
      "metadata": {
        "id": "1G1sD8UzRUPn"
      },
      "execution_count": null,
      "outputs": []
    },
    {
      "cell_type": "markdown",
      "source": [
        "Set up k-fold cross-validation with 5 folds, shuffling the data, and using a random state of 42.Storing mean absolute error values in a list to keep results from cross validation."
      ],
      "metadata": {
        "id": "8lmtlWulD-Ug"
      }
    },
    {
      "cell_type": "code",
      "source": [
        "# Set up k-fold cross-validation\n",
        "kfold = KFold(n_splits=5, shuffle=True, random_state=42)\n",
        "\n",
        "# Lists to store the cross-validation results\n",
        "mae_scores = []"
      ],
      "metadata": {
        "id": "O6ERgk7OUVxv"
      },
      "execution_count": null,
      "outputs": []
    },
    {
      "cell_type": "markdown",
      "source": [
        "Loop through different models and perform k-fold cross-validation for each model, then split the data into training and testing sets for each fold using 'kfold'\n",
        "Fit the current model on the training data\n",
        "Make predictions on the test data\n",
        "Calculate Mean Absolute Error (MAE) between true and predicted values\n",
        "Store the MAE scores in the'mae_scores', for each model\n",
        "Store the final MAE scores for each model in the 'mae_score' dictionary\n"
      ],
      "metadata": {
        "id": "pjDuPF6oGzM5"
      }
    },
    {
      "cell_type": "code",
      "source": [
        "for model_name, model in models.items():\n",
        "    for train_index, test_index in kfold.split(x):\n",
        "        X_train, X_test = x.iloc[train_index], x.iloc[test_index]\n",
        "        Y_train, Y_test = y.iloc[train_index], y.iloc[test_index]\n",
        "\n",
        "        # Fit the model on the training data\n",
        "        model.fit(X_train, Y_train)\n",
        "\n",
        "        # Make predictions on the test data\n",
        "        y_pred = model.predict(X_test)\n",
        "\n",
        "        # Calculate mean squared error and store it\n",
        "        mae = mean_absolute_error(Y_test, y_pred)\n",
        "        mae_scores.append(mae)\n",
        "        mae_score[model_name] = mae_scores\n"
      ],
      "metadata": {
        "id": "cE2QIesGRx_q"
      },
      "execution_count": null,
      "outputs": []
    },
    {
      "cell_type": "markdown",
      "source": [
        "Display the mean absolute error for each model"
      ],
      "metadata": {
        "id": "eKDTetcPHq8B"
      }
    },
    {
      "cell_type": "code",
      "source": [
        "print(mae_score)"
      ],
      "metadata": {
        "colab": {
          "base_uri": "https://localhost:8080/"
        },
        "id": "UMJHAsVFSQgq",
        "outputId": "6c04e021-91a6-4849-f7af-fed73a8671be"
      },
      "execution_count": null,
      "outputs": [
        {
          "output_type": "stream",
          "name": "stdout",
          "text": [
            "{'Random Forest': [0.258944312483505, 0.2605146476642917, 0.2513671153338614, 0.26241752441277394, 0.2694904963041184, 0.2852995513328055, 0.27685405120084455, 0.2557403008709422, 0.2747426761678543, 0.28616684266103487, 0.5841977908024489, 0.5829862633603746, 0.5976370062963273, 0.5923539813895252, 0.599148237918279], 'Decision Tree': [0.258944312483505, 0.2605146476642917, 0.2513671153338614, 0.26241752441277394, 0.2694904963041184, 0.2852995513328055, 0.27685405120084455, 0.2557403008709422, 0.2747426761678543, 0.28616684266103487, 0.5841977908024489, 0.5829862633603746, 0.5976370062963273, 0.5923539813895252, 0.599148237918279], 'Gradient Boost': [0.258944312483505, 0.2605146476642917, 0.2513671153338614, 0.26241752441277394, 0.2694904963041184, 0.2852995513328055, 0.27685405120084455, 0.2557403008709422, 0.2747426761678543, 0.28616684266103487, 0.5841977908024489, 0.5829862633603746, 0.5976370062963273, 0.5923539813895252, 0.599148237918279]}\n"
          ]
        }
      ]
    },
    {
      "cell_type": "markdown",
      "source": [
        "Finding the best model with the lowest mean absolute error 'min_error' is initialized to positive infinity and 'best_model' to None.\n",
        "Loop through the models and calculate the mean error for each using k-fold cross-validation. If the mean error for this model is smaller than the current minimum error, update the best model and min_error."
      ],
      "metadata": {
        "id": "ULDIthHNP9m8"
      }
    },
    {
      "cell_type": "code",
      "source": [
        "min_error = float('inf')\n",
        "best_model = None\n",
        "\n",
        "for model_name, error_list in mae_score.items():\n",
        "    mean_error = sum(error_list) / len(error_list)\n",
        "\n",
        "    if mean_error < min_error:\n",
        "        min_error = mean_error\n",
        "        best_model = model_name"
      ],
      "metadata": {
        "id": "w4wkevAUSWFC"
      },
      "execution_count": null,
      "outputs": []
    },
    {
      "cell_type": "markdown",
      "source": [
        "Store the name of the best model."
      ],
      "metadata": {
        "id": "w8Fw6xVnQ3wj"
      }
    },
    {
      "cell_type": "code",
      "source": [
        "best_model\n",
        "model = models[best_model]"
      ],
      "metadata": {
        "id": "OaaHov-YacOd"
      },
      "execution_count": null,
      "outputs": []
    },
    {
      "cell_type": "markdown",
      "source": [
        "Display the columns of the 'data' dataframe."
      ],
      "metadata": {
        "id": "UnEtZmZCbN3Q"
      }
    },
    {
      "cell_type": "code",
      "source": [
        "data.columns"
      ],
      "metadata": {
        "colab": {
          "base_uri": "https://localhost:8080/"
        },
        "id": "S8Bnp99vwNuB",
        "outputId": "5a8a8e6c-fcf1-4d06-c9aa-c6ad004e44b9"
      },
      "execution_count": null,
      "outputs": [
        {
          "output_type": "execute_result",
          "data": {
            "text/plain": [
              "Index(['overall', 'potential', 'value_eur', 'wage_eur', 'age',\n",
              "       'international_reputation', 'release_clause_eur', 'shooting', 'passing',\n",
              "       'dribbling', 'physic', 'movement_reactions', 'mentality_aggression',\n",
              "       'mentality_vision', 'mentality_composure', 'attacking', 'skill',\n",
              "       'power_average'],\n",
              "      dtype='object')"
            ]
          },
          "metadata": {},
          "execution_count": 44
        }
      ]
    },
    {
      "cell_type": "markdown",
      "source": [
        "Display summary statistics for the 'data' dataframe."
      ],
      "metadata": {
        "id": "rO3DjgzAbOv9"
      }
    },
    {
      "cell_type": "code",
      "source": [
        "data.describe() # description of features"
      ],
      "metadata": {
        "colab": {
          "base_uri": "https://localhost:8080/",
          "height": 320
        },
        "id": "brm7GzHA0oNL",
        "outputId": "20d3e645-1064-4dd4-c335-4dddc80c695d"
      },
      "execution_count": null,
      "outputs": [
        {
          "output_type": "execute_result",
          "data": {
            "text/plain": [
              "            overall     potential     value_eur       wage_eur           age  \\\n",
              "count  18944.000000  18944.000000  1.894400e+04   18944.000000  18944.000000   \n",
              "mean      65.677787     71.086729  2.902288e+06    9148.482825     25.225823   \n",
              "std        7.002278      6.109985  7.695181e+06   19774.654223      4.697354   \n",
              "min       47.000000     47.000000  9.000000e+03     500.000000     16.000000   \n",
              "25%       61.000000     67.000000  4.750000e+05    1000.000000     21.000000   \n",
              "50%       66.000000     71.000000  9.750000e+05    3000.000000     25.000000   \n",
              "75%       70.000000     75.000000  2.100000e+06    9000.000000     29.000000   \n",
              "max       93.000000     95.000000  1.855000e+08  560000.000000     53.000000   \n",
              "\n",
              "       international_reputation  release_clause_eur      shooting  \\\n",
              "count              18944.000000        1.894400e+04  18944.000000   \n",
              "mean                   1.091850        4.296353e+06     52.274954   \n",
              "std                    0.361841        9.791922e+06     13.199766   \n",
              "min                    1.000000        9.000000e+03     16.000000   \n",
              "25%                    1.000000        5.440000e+05     44.000000   \n",
              "50%                    1.000000        1.200000e+06     52.274954   \n",
              "75%                    1.000000        4.296353e+06     62.000000   \n",
              "max                    5.000000        2.031000e+08     93.000000   \n",
              "\n",
              "            passing     dribbling        physic  movement_reactions  \\\n",
              "count  18944.000000  18944.000000  18944.000000        18944.000000   \n",
              "mean      57.139434     62.455430     64.458988           61.609428   \n",
              "std        9.692357      9.480136      9.195223            9.112954   \n",
              "min       25.000000     25.000000     28.000000           24.000000   \n",
              "25%       51.000000     58.000000     59.000000           56.000000   \n",
              "50%       57.139434     62.455430     64.458988           62.000000   \n",
              "75%       63.000000     68.000000     71.000000           68.000000   \n",
              "max       93.000000     95.000000     91.000000           95.000000   \n",
              "\n",
              "       mentality_aggression  mentality_vision  mentality_composure  \\\n",
              "count          18944.000000      18944.000000         18944.000000   \n",
              "mean              55.488862         53.828231            57.978674   \n",
              "std               17.203045         13.724072            12.118390   \n",
              "min                9.000000          9.000000            12.000000   \n",
              "25%               44.000000         45.000000            50.000000   \n",
              "50%               58.000000         55.000000            59.000000   \n",
              "75%               68.000000         64.000000            66.000000   \n",
              "max               96.000000         95.000000            96.000000   \n",
              "\n",
              "          attacking         skill  power_average  \n",
              "count  18944.000000  18944.000000   18944.000000  \n",
              "mean      49.731704     51.245133      59.288207  \n",
              "std       14.893365     15.753738      10.174109  \n",
              "min        8.400000      8.000000      24.400000  \n",
              "25%       44.400000     44.200000      52.800000  \n",
              "50%       52.400000     53.800000      60.400000  \n",
              "75%       59.400000     62.000000      66.800000  \n",
              "max       87.400000     94.000000      88.800000  "
            ],
            "text/html": [
              "\n",
              "  <div id=\"df-92b6b47c-0f69-429f-905c-22f10b5e3215\" class=\"colab-df-container\">\n",
              "    <div>\n",
              "<style scoped>\n",
              "    .dataframe tbody tr th:only-of-type {\n",
              "        vertical-align: middle;\n",
              "    }\n",
              "\n",
              "    .dataframe tbody tr th {\n",
              "        vertical-align: top;\n",
              "    }\n",
              "\n",
              "    .dataframe thead th {\n",
              "        text-align: right;\n",
              "    }\n",
              "</style>\n",
              "<table border=\"1\" class=\"dataframe\">\n",
              "  <thead>\n",
              "    <tr style=\"text-align: right;\">\n",
              "      <th></th>\n",
              "      <th>overall</th>\n",
              "      <th>potential</th>\n",
              "      <th>value_eur</th>\n",
              "      <th>wage_eur</th>\n",
              "      <th>age</th>\n",
              "      <th>international_reputation</th>\n",
              "      <th>release_clause_eur</th>\n",
              "      <th>shooting</th>\n",
              "      <th>passing</th>\n",
              "      <th>dribbling</th>\n",
              "      <th>physic</th>\n",
              "      <th>movement_reactions</th>\n",
              "      <th>mentality_aggression</th>\n",
              "      <th>mentality_vision</th>\n",
              "      <th>mentality_composure</th>\n",
              "      <th>attacking</th>\n",
              "      <th>skill</th>\n",
              "      <th>power_average</th>\n",
              "    </tr>\n",
              "  </thead>\n",
              "  <tbody>\n",
              "    <tr>\n",
              "      <th>count</th>\n",
              "      <td>18944.000000</td>\n",
              "      <td>18944.000000</td>\n",
              "      <td>1.894400e+04</td>\n",
              "      <td>18944.000000</td>\n",
              "      <td>18944.000000</td>\n",
              "      <td>18944.000000</td>\n",
              "      <td>1.894400e+04</td>\n",
              "      <td>18944.000000</td>\n",
              "      <td>18944.000000</td>\n",
              "      <td>18944.000000</td>\n",
              "      <td>18944.000000</td>\n",
              "      <td>18944.000000</td>\n",
              "      <td>18944.000000</td>\n",
              "      <td>18944.000000</td>\n",
              "      <td>18944.000000</td>\n",
              "      <td>18944.000000</td>\n",
              "      <td>18944.000000</td>\n",
              "      <td>18944.000000</td>\n",
              "    </tr>\n",
              "    <tr>\n",
              "      <th>mean</th>\n",
              "      <td>65.677787</td>\n",
              "      <td>71.086729</td>\n",
              "      <td>2.902288e+06</td>\n",
              "      <td>9148.482825</td>\n",
              "      <td>25.225823</td>\n",
              "      <td>1.091850</td>\n",
              "      <td>4.296353e+06</td>\n",
              "      <td>52.274954</td>\n",
              "      <td>57.139434</td>\n",
              "      <td>62.455430</td>\n",
              "      <td>64.458988</td>\n",
              "      <td>61.609428</td>\n",
              "      <td>55.488862</td>\n",
              "      <td>53.828231</td>\n",
              "      <td>57.978674</td>\n",
              "      <td>49.731704</td>\n",
              "      <td>51.245133</td>\n",
              "      <td>59.288207</td>\n",
              "    </tr>\n",
              "    <tr>\n",
              "      <th>std</th>\n",
              "      <td>7.002278</td>\n",
              "      <td>6.109985</td>\n",
              "      <td>7.695181e+06</td>\n",
              "      <td>19774.654223</td>\n",
              "      <td>4.697354</td>\n",
              "      <td>0.361841</td>\n",
              "      <td>9.791922e+06</td>\n",
              "      <td>13.199766</td>\n",
              "      <td>9.692357</td>\n",
              "      <td>9.480136</td>\n",
              "      <td>9.195223</td>\n",
              "      <td>9.112954</td>\n",
              "      <td>17.203045</td>\n",
              "      <td>13.724072</td>\n",
              "      <td>12.118390</td>\n",
              "      <td>14.893365</td>\n",
              "      <td>15.753738</td>\n",
              "      <td>10.174109</td>\n",
              "    </tr>\n",
              "    <tr>\n",
              "      <th>min</th>\n",
              "      <td>47.000000</td>\n",
              "      <td>47.000000</td>\n",
              "      <td>9.000000e+03</td>\n",
              "      <td>500.000000</td>\n",
              "      <td>16.000000</td>\n",
              "      <td>1.000000</td>\n",
              "      <td>9.000000e+03</td>\n",
              "      <td>16.000000</td>\n",
              "      <td>25.000000</td>\n",
              "      <td>25.000000</td>\n",
              "      <td>28.000000</td>\n",
              "      <td>24.000000</td>\n",
              "      <td>9.000000</td>\n",
              "      <td>9.000000</td>\n",
              "      <td>12.000000</td>\n",
              "      <td>8.400000</td>\n",
              "      <td>8.000000</td>\n",
              "      <td>24.400000</td>\n",
              "    </tr>\n",
              "    <tr>\n",
              "      <th>25%</th>\n",
              "      <td>61.000000</td>\n",
              "      <td>67.000000</td>\n",
              "      <td>4.750000e+05</td>\n",
              "      <td>1000.000000</td>\n",
              "      <td>21.000000</td>\n",
              "      <td>1.000000</td>\n",
              "      <td>5.440000e+05</td>\n",
              "      <td>44.000000</td>\n",
              "      <td>51.000000</td>\n",
              "      <td>58.000000</td>\n",
              "      <td>59.000000</td>\n",
              "      <td>56.000000</td>\n",
              "      <td>44.000000</td>\n",
              "      <td>45.000000</td>\n",
              "      <td>50.000000</td>\n",
              "      <td>44.400000</td>\n",
              "      <td>44.200000</td>\n",
              "      <td>52.800000</td>\n",
              "    </tr>\n",
              "    <tr>\n",
              "      <th>50%</th>\n",
              "      <td>66.000000</td>\n",
              "      <td>71.000000</td>\n",
              "      <td>9.750000e+05</td>\n",
              "      <td>3000.000000</td>\n",
              "      <td>25.000000</td>\n",
              "      <td>1.000000</td>\n",
              "      <td>1.200000e+06</td>\n",
              "      <td>52.274954</td>\n",
              "      <td>57.139434</td>\n",
              "      <td>62.455430</td>\n",
              "      <td>64.458988</td>\n",
              "      <td>62.000000</td>\n",
              "      <td>58.000000</td>\n",
              "      <td>55.000000</td>\n",
              "      <td>59.000000</td>\n",
              "      <td>52.400000</td>\n",
              "      <td>53.800000</td>\n",
              "      <td>60.400000</td>\n",
              "    </tr>\n",
              "    <tr>\n",
              "      <th>75%</th>\n",
              "      <td>70.000000</td>\n",
              "      <td>75.000000</td>\n",
              "      <td>2.100000e+06</td>\n",
              "      <td>9000.000000</td>\n",
              "      <td>29.000000</td>\n",
              "      <td>1.000000</td>\n",
              "      <td>4.296353e+06</td>\n",
              "      <td>62.000000</td>\n",
              "      <td>63.000000</td>\n",
              "      <td>68.000000</td>\n",
              "      <td>71.000000</td>\n",
              "      <td>68.000000</td>\n",
              "      <td>68.000000</td>\n",
              "      <td>64.000000</td>\n",
              "      <td>66.000000</td>\n",
              "      <td>59.400000</td>\n",
              "      <td>62.000000</td>\n",
              "      <td>66.800000</td>\n",
              "    </tr>\n",
              "    <tr>\n",
              "      <th>max</th>\n",
              "      <td>93.000000</td>\n",
              "      <td>95.000000</td>\n",
              "      <td>1.855000e+08</td>\n",
              "      <td>560000.000000</td>\n",
              "      <td>53.000000</td>\n",
              "      <td>5.000000</td>\n",
              "      <td>2.031000e+08</td>\n",
              "      <td>93.000000</td>\n",
              "      <td>93.000000</td>\n",
              "      <td>95.000000</td>\n",
              "      <td>91.000000</td>\n",
              "      <td>95.000000</td>\n",
              "      <td>96.000000</td>\n",
              "      <td>95.000000</td>\n",
              "      <td>96.000000</td>\n",
              "      <td>87.400000</td>\n",
              "      <td>94.000000</td>\n",
              "      <td>88.800000</td>\n",
              "    </tr>\n",
              "  </tbody>\n",
              "</table>\n",
              "</div>\n",
              "    <div class=\"colab-df-buttons\">\n",
              "\n",
              "  <div class=\"colab-df-container\">\n",
              "    <button class=\"colab-df-convert\" onclick=\"convertToInteractive('df-92b6b47c-0f69-429f-905c-22f10b5e3215')\"\n",
              "            title=\"Convert this dataframe to an interactive table.\"\n",
              "            style=\"display:none;\">\n",
              "\n",
              "  <svg xmlns=\"http://www.w3.org/2000/svg\" height=\"24px\" viewBox=\"0 -960 960 960\">\n",
              "    <path d=\"M120-120v-720h720v720H120Zm60-500h600v-160H180v160Zm220 220h160v-160H400v160Zm0 220h160v-160H400v160ZM180-400h160v-160H180v160Zm440 0h160v-160H620v160ZM180-180h160v-160H180v160Zm440 0h160v-160H620v160Z\"/>\n",
              "  </svg>\n",
              "    </button>\n",
              "\n",
              "  <style>\n",
              "    .colab-df-container {\n",
              "      display:flex;\n",
              "      gap: 12px;\n",
              "    }\n",
              "\n",
              "    .colab-df-convert {\n",
              "      background-color: #E8F0FE;\n",
              "      border: none;\n",
              "      border-radius: 50%;\n",
              "      cursor: pointer;\n",
              "      display: none;\n",
              "      fill: #1967D2;\n",
              "      height: 32px;\n",
              "      padding: 0 0 0 0;\n",
              "      width: 32px;\n",
              "    }\n",
              "\n",
              "    .colab-df-convert:hover {\n",
              "      background-color: #E2EBFA;\n",
              "      box-shadow: 0px 1px 2px rgba(60, 64, 67, 0.3), 0px 1px 3px 1px rgba(60, 64, 67, 0.15);\n",
              "      fill: #174EA6;\n",
              "    }\n",
              "\n",
              "    .colab-df-buttons div {\n",
              "      margin-bottom: 4px;\n",
              "    }\n",
              "\n",
              "    [theme=dark] .colab-df-convert {\n",
              "      background-color: #3B4455;\n",
              "      fill: #D2E3FC;\n",
              "    }\n",
              "\n",
              "    [theme=dark] .colab-df-convert:hover {\n",
              "      background-color: #434B5C;\n",
              "      box-shadow: 0px 1px 3px 1px rgba(0, 0, 0, 0.15);\n",
              "      filter: drop-shadow(0px 1px 2px rgba(0, 0, 0, 0.3));\n",
              "      fill: #FFFFFF;\n",
              "    }\n",
              "  </style>\n",
              "\n",
              "    <script>\n",
              "      const buttonEl =\n",
              "        document.querySelector('#df-92b6b47c-0f69-429f-905c-22f10b5e3215 button.colab-df-convert');\n",
              "      buttonEl.style.display =\n",
              "        google.colab.kernel.accessAllowed ? 'block' : 'none';\n",
              "\n",
              "      async function convertToInteractive(key) {\n",
              "        const element = document.querySelector('#df-92b6b47c-0f69-429f-905c-22f10b5e3215');\n",
              "        const dataTable =\n",
              "          await google.colab.kernel.invokeFunction('convertToInteractive',\n",
              "                                                    [key], {});\n",
              "        if (!dataTable) return;\n",
              "\n",
              "        const docLinkHtml = 'Like what you see? Visit the ' +\n",
              "          '<a target=\"_blank\" href=https://colab.research.google.com/notebooks/data_table.ipynb>data table notebook</a>'\n",
              "          + ' to learn more about interactive tables.';\n",
              "        element.innerHTML = '';\n",
              "        dataTable['output_type'] = 'display_data';\n",
              "        await google.colab.output.renderOutput(dataTable, element);\n",
              "        const docLink = document.createElement('div');\n",
              "        docLink.innerHTML = docLinkHtml;\n",
              "        element.appendChild(docLink);\n",
              "      }\n",
              "    </script>\n",
              "  </div>\n",
              "\n",
              "\n",
              "<div id=\"df-7f73d8ac-516f-429a-8f5b-3703b223c646\">\n",
              "  <button class=\"colab-df-quickchart\" onclick=\"quickchart('df-7f73d8ac-516f-429a-8f5b-3703b223c646')\"\n",
              "            title=\"Suggest charts.\"\n",
              "            style=\"display:none;\">\n",
              "\n",
              "<svg xmlns=\"http://www.w3.org/2000/svg\" height=\"24px\"viewBox=\"0 0 24 24\"\n",
              "     width=\"24px\">\n",
              "    <g>\n",
              "        <path d=\"M19 3H5c-1.1 0-2 .9-2 2v14c0 1.1.9 2 2 2h14c1.1 0 2-.9 2-2V5c0-1.1-.9-2-2-2zM9 17H7v-7h2v7zm4 0h-2V7h2v10zm4 0h-2v-4h2v4z\"/>\n",
              "    </g>\n",
              "</svg>\n",
              "  </button>\n",
              "\n",
              "<style>\n",
              "  .colab-df-quickchart {\n",
              "      --bg-color: #E8F0FE;\n",
              "      --fill-color: #1967D2;\n",
              "      --hover-bg-color: #E2EBFA;\n",
              "      --hover-fill-color: #174EA6;\n",
              "      --disabled-fill-color: #AAA;\n",
              "      --disabled-bg-color: #DDD;\n",
              "  }\n",
              "\n",
              "  [theme=dark] .colab-df-quickchart {\n",
              "      --bg-color: #3B4455;\n",
              "      --fill-color: #D2E3FC;\n",
              "      --hover-bg-color: #434B5C;\n",
              "      --hover-fill-color: #FFFFFF;\n",
              "      --disabled-bg-color: #3B4455;\n",
              "      --disabled-fill-color: #666;\n",
              "  }\n",
              "\n",
              "  .colab-df-quickchart {\n",
              "    background-color: var(--bg-color);\n",
              "    border: none;\n",
              "    border-radius: 50%;\n",
              "    cursor: pointer;\n",
              "    display: none;\n",
              "    fill: var(--fill-color);\n",
              "    height: 32px;\n",
              "    padding: 0;\n",
              "    width: 32px;\n",
              "  }\n",
              "\n",
              "  .colab-df-quickchart:hover {\n",
              "    background-color: var(--hover-bg-color);\n",
              "    box-shadow: 0 1px 2px rgba(60, 64, 67, 0.3), 0 1px 3px 1px rgba(60, 64, 67, 0.15);\n",
              "    fill: var(--button-hover-fill-color);\n",
              "  }\n",
              "\n",
              "  .colab-df-quickchart-complete:disabled,\n",
              "  .colab-df-quickchart-complete:disabled:hover {\n",
              "    background-color: var(--disabled-bg-color);\n",
              "    fill: var(--disabled-fill-color);\n",
              "    box-shadow: none;\n",
              "  }\n",
              "\n",
              "  .colab-df-spinner {\n",
              "    border: 2px solid var(--fill-color);\n",
              "    border-color: transparent;\n",
              "    border-bottom-color: var(--fill-color);\n",
              "    animation:\n",
              "      spin 1s steps(1) infinite;\n",
              "  }\n",
              "\n",
              "  @keyframes spin {\n",
              "    0% {\n",
              "      border-color: transparent;\n",
              "      border-bottom-color: var(--fill-color);\n",
              "      border-left-color: var(--fill-color);\n",
              "    }\n",
              "    20% {\n",
              "      border-color: transparent;\n",
              "      border-left-color: var(--fill-color);\n",
              "      border-top-color: var(--fill-color);\n",
              "    }\n",
              "    30% {\n",
              "      border-color: transparent;\n",
              "      border-left-color: var(--fill-color);\n",
              "      border-top-color: var(--fill-color);\n",
              "      border-right-color: var(--fill-color);\n",
              "    }\n",
              "    40% {\n",
              "      border-color: transparent;\n",
              "      border-right-color: var(--fill-color);\n",
              "      border-top-color: var(--fill-color);\n",
              "    }\n",
              "    60% {\n",
              "      border-color: transparent;\n",
              "      border-right-color: var(--fill-color);\n",
              "    }\n",
              "    80% {\n",
              "      border-color: transparent;\n",
              "      border-right-color: var(--fill-color);\n",
              "      border-bottom-color: var(--fill-color);\n",
              "    }\n",
              "    90% {\n",
              "      border-color: transparent;\n",
              "      border-bottom-color: var(--fill-color);\n",
              "    }\n",
              "  }\n",
              "</style>\n",
              "\n",
              "  <script>\n",
              "    async function quickchart(key) {\n",
              "      const quickchartButtonEl =\n",
              "        document.querySelector('#' + key + ' button');\n",
              "      quickchartButtonEl.disabled = true;  // To prevent multiple clicks.\n",
              "      quickchartButtonEl.classList.add('colab-df-spinner');\n",
              "      try {\n",
              "        const charts = await google.colab.kernel.invokeFunction(\n",
              "            'suggestCharts', [key], {});\n",
              "      } catch (error) {\n",
              "        console.error('Error during call to suggestCharts:', error);\n",
              "      }\n",
              "      quickchartButtonEl.classList.remove('colab-df-spinner');\n",
              "      quickchartButtonEl.classList.add('colab-df-quickchart-complete');\n",
              "    }\n",
              "    (() => {\n",
              "      let quickchartButtonEl =\n",
              "        document.querySelector('#df-7f73d8ac-516f-429a-8f5b-3703b223c646 button');\n",
              "      quickchartButtonEl.style.display =\n",
              "        google.colab.kernel.accessAllowed ? 'block' : 'none';\n",
              "    })();\n",
              "  </script>\n",
              "</div>\n",
              "    </div>\n",
              "  </div>\n"
            ]
          },
          "metadata": {},
          "execution_count": 45
        }
      ]
    },
    {
      "cell_type": "markdown",
      "source": [
        "Splitting the data into training and testing sets."
      ],
      "metadata": {
        "id": "nMgLcK_4bcYI"
      }
    },
    {
      "cell_type": "code",
      "source": [
        "x_train, x_test, y_train, y_test = train_test_split(x, y, test_size=0.2, random_state=42)"
      ],
      "metadata": {
        "id": "l5kY3dgyANWA"
      },
      "execution_count": null,
      "outputs": []
    },
    {
      "cell_type": "markdown",
      "source": [
        "Fine tuning the gradient boosting regressor, performed grid search with cross-validation to find the best hyperparameters for the model.Retrieved the best model with the optimal hyperparameters then evaluated tofine tuned model on the test set"
      ],
      "metadata": {
        "id": "80YoHHQ8meHk"
      }
    },
    {
      "cell_type": "code",
      "source": [
        "param_grid = {'n_estimators': [50, 100, 200], 'max_depth': [None, 10, 20]}\n",
        "\n",
        "# Assuming 'model' and 'param_grid' are defined earlier\n",
        "grid_search = GridSearchCV(model, param_grid, cv=5, scoring='neg_mean_absolute_error')\n",
        "grid_search.fit(x_train,y_train)\n",
        "\n",
        "# Now, you can use these best parameters to train your model on the entire training set or do further analysis\n",
        "best_model = grid_search.best_estimator_\n",
        "best_model.fit(x_train, y_train)\n",
        "\n",
        "# Evaluate the model on the test set\n",
        "y_pred = best_model.predict(x_test)\n",
        "mae = mean_absolute_error(y_test, y_pred)\n",
        "print(f'Mean Absolute Error on Test Set: {mae}')\n",
        "\n"
      ],
      "metadata": {
        "colab": {
          "base_uri": "https://localhost:8080/"
        },
        "id": "zMbSt8UUoL16",
        "outputId": "d63b57b1-e85d-4c41-8550-0b824525a818"
      },
      "execution_count": null,
      "outputs": [
        {
          "output_type": "stream",
          "name": "stdout",
          "text": [
            "Mean Absolute Error on Test Set: 0.25954268089879035\n"
          ]
        }
      ]
    },
    {
      "cell_type": "markdown",
      "source": [
        "Created an empty dictionary to store the best hyperparameters."
      ],
      "metadata": {
        "id": "OkIfJH-CccM0"
      }
    },
    {
      "cell_type": "code",
      "source": [
        "best_params_grid = {}"
      ],
      "metadata": {
        "id": "C1N_JM1I7nSB"
      },
      "execution_count": null,
      "outputs": []
    },
    {
      "cell_type": "markdown",
      "source": [
        "Display the minimum error value calculated earlier.\n"
      ],
      "metadata": {
        "id": "P3TxPhymApNm"
      }
    },
    {
      "cell_type": "code",
      "source": [
        "min_error"
      ],
      "metadata": {
        "id": "gCf2lL947SVM",
        "colab": {
          "base_uri": "https://localhost:8080/"
        },
        "outputId": "7da06e4b-5d40-4acd-ff45-326c4e836b0b"
      },
      "execution_count": null,
      "outputs": [
        {
          "output_type": "execute_result",
          "data": {
            "text/plain": [
              "0.3758573865465992"
            ]
          },
          "metadata": {},
          "execution_count": 49
        }
      ]
    },
    {
      "cell_type": "markdown",
      "source": [
        "Checking if the tuned model is better than the actual mode:We check whether the Mean absolute error of the tuned model is smaller than that of the original"
      ],
      "metadata": {
        "id": "ewxeYaY2jf_U"
      }
    },
    {
      "cell_type": "code",
      "source": [
        "mae < min_error"
      ],
      "metadata": {
        "id": "OV4cWry7jYgl",
        "colab": {
          "base_uri": "https://localhost:8080/"
        },
        "outputId": "dc80fac9-68db-44c4-a683-89a3b187afa1"
      },
      "execution_count": null,
      "outputs": [
        {
          "output_type": "execute_result",
          "data": {
            "text/plain": [
              "True"
            ]
          },
          "metadata": {},
          "execution_count": 50
        }
      ]
    },
    {
      "cell_type": "markdown",
      "source": [
        "Display the columns of the 'data' dataframe."
      ],
      "metadata": {
        "id": "NYwBRVMRdcyM"
      }
    },
    {
      "cell_type": "code",
      "source": [
        "data.columns"
      ],
      "metadata": {
        "id": "8b6zZArntX9C",
        "colab": {
          "base_uri": "https://localhost:8080/"
        },
        "outputId": "9fd71d71-5f79-4983-9223-ad3b3de1a681"
      },
      "execution_count": null,
      "outputs": [
        {
          "output_type": "execute_result",
          "data": {
            "text/plain": [
              "Index(['overall', 'potential', 'value_eur', 'wage_eur', 'age',\n",
              "       'international_reputation', 'release_clause_eur', 'shooting', 'passing',\n",
              "       'dribbling', 'physic', 'movement_reactions', 'mentality_aggression',\n",
              "       'mentality_vision', 'mentality_composure', 'attacking', 'skill',\n",
              "       'power_average'],\n",
              "      dtype='object')"
            ]
          },
          "metadata": {},
          "execution_count": 51
        }
      ]
    },
    {
      "cell_type": "markdown",
      "source": [
        "Saving the best model in a file"
      ],
      "metadata": {
        "id": "GiL33Jdv8qUu"
      }
    },
    {
      "cell_type": "code",
      "source": [
        "file_name = \"/content/drive/My Drive/Colab Notebooks/Intro to AI/besk_model.pkl\"\n",
        "with open(file_name, \"wb\") as file:\n",
        "  pk.dump(best_model,file)"
      ],
      "metadata": {
        "id": "goGgClL18tMg"
      },
      "execution_count": null,
      "outputs": []
    },
    {
      "cell_type": "markdown",
      "source": [
        "Testing my model with Player22.\n",
        "Loop through the dataset and remove columns from the 'dataset' dataframe with too many missing values."
      ],
      "metadata": {
        "id": "hKe_qHpjrm3n"
      }
    },
    {
      "cell_type": "code",
      "source": [
        "for column in dataset.columns:\n",
        "    if dataset[column].isna().sum() > 0.3 * len(data):\n",
        "        dataset.drop(column, axis=1, inplace=True)"
      ],
      "metadata": {
        "id": "zQrgYczLt-JI"
      },
      "execution_count": null,
      "outputs": []
    },
    {
      "cell_type": "markdown",
      "source": [
        "To determine which columns in the 'dataset' DataFrame have a data type of 'object' (which usually indicates categorical variables).\n",
        "The names of these categorical columns should be saved in the 'columns_to_encode' list.\n",
        "To handle missing data, use the 'pd.get_dummies' function to one-hot encode the category columns with 'dummy_na=True'.\n",
        "Along the columns (axis=1), concatenate the one-hot encoded columns with the original 'dataset'.\n",
        "Using 'drop', implace, and axis=1, remove the original categorical columns from 'dataset'."
      ],
      "metadata": {
        "id": "keMjRHN5efKc"
      }
    },
    {
      "cell_type": "code",
      "source": [
        "columns_to_encode = []\n",
        "for column in dataset.columns:\n",
        "  if dataset[column].dtype == object:\n",
        "    columns_to_encode.append(column)\n",
        "# Use get_dummies with dummy_na=True\n",
        "df_encoded= pd.get_dummies(columns_to_encode, columns=columns_to_encode, dummy_na=True)\n",
        "dataset = pd.concat([dataset, df_encoded], axis=1)\n",
        "dataset.drop(columns_to_encode, axis = 1, inplace = True)"
      ],
      "metadata": {
        "id": "_z5DbOQdtVtT"
      },
      "execution_count": null,
      "outputs": []
    },
    {
      "cell_type": "markdown",
      "source": [
        "Ensure all columns are of string data type"
      ],
      "metadata": {
        "id": "OBhb-6P1kVsH"
      }
    },
    {
      "cell_type": "code",
      "source": [
        "dataset.columns = dataset.columns.astype(str)\n",
        "columns = dataset.columns"
      ],
      "metadata": {
        "id": "i-hv9ug_EcWp"
      },
      "execution_count": null,
      "outputs": []
    },
    {
      "cell_type": "markdown",
      "source": [
        "Fitting the imputer to the 'dataset' and imputing missing values."
      ],
      "metadata": {
        "id": "pGQL2H3Cj-rg"
      }
    },
    {
      "cell_type": "code",
      "source": [
        "imputer.fit(dataset)\n",
        "dataset =imputer.fit_transform(dataset)\n",
        "dataset= pd.DataFrame(dataset, columns = columns)"
      ],
      "metadata": {
        "id": "iVY_8KZKl00k"
      },
      "execution_count": null,
      "outputs": []
    },
    {
      "cell_type": "markdown",
      "source": [
        "Create new columns in 'dataset' by calculating the mean of specific groups of columns, similar to what was done for the 'data' dataset."
      ],
      "metadata": {
        "id": "k-by22jijzUP"
      }
    },
    {
      "cell_type": "code",
      "source": [
        "dataset['goalkeeping_average'] = dataset[['goalkeeping_diving', 'goalkeeping_handling', 'goalkeeping_kicking', 'goalkeeping_positioning', 'goalkeeping_reflexes']].mean(axis =1)\n",
        "dataset['attacking'] = dataset[['attacking_crossing', 'attacking_finishing', 'attacking_heading_accuracy',\n",
        "                                'attacking_short_passing', 'attacking_volleys']].mean(axis =1)\n",
        "dataset['defending_average'] = dataset[['defending_marking_awareness', 'defending_standing_tackle', 'defending_sliding_tackle' ]].mean(axis =1)\n",
        "dataset['skill'] = dataset[['skill_dribbling','skill_curve','skill_fk_accuracy','skill_long_passing','skill_ball_control']].mean(axis =1)\n",
        "dataset['power_average'] = dataset[['power_shot_power', 'power_jumping', 'power_stamina',\n",
        "                                'power_strength', 'power_long_shots' ]].mean(axis =1)\n",
        "dataset['movement_average'] = dataset[['movement_acceleration', 'movement_sprint_speed', 'movement_agility',\n",
        "                                'movement_reactions', 'movement_balance']].mean(axis =1)\n",
        "dataset['goalkeeping_average'] = dataset[['goalkeeping_diving', 'goalkeeping_diving', 'goalkeeping_kicking',\n",
        "                                'goalkeeping_positioning', 'goalkeeping_reflexes','goalkeeping_handling']].mean(axis =1)"
      ],
      "metadata": {
        "id": "xvJMFVR0kp0D"
      },
      "execution_count": null,
      "outputs": []
    },
    {
      "cell_type": "markdown",
      "source": [
        "Filtering the 'dataset' to keep only the features used to train the model."
      ],
      "metadata": {
        "id": "YGlwuPTh_VBZ"
      }
    },
    {
      "cell_type": "code",
      "source": [
        "columns_to_keep = data.columns\n",
        "dataset = dataset[columns_to_keep]"
      ],
      "metadata": {
        "id": "OKr4qEqUg-lK"
      },
      "execution_count": null,
      "outputs": []
    },
    {
      "cell_type": "markdown",
      "source": [
        "Scaling the test data using the previous MinScaler"
      ],
      "metadata": {
        "id": "71x3POKN_29i"
      }
    },
    {
      "cell_type": "code",
      "source": [
        "y= dataset['overall']\n",
        "x = dataset.drop('overall', axis =1)\n",
        "columns_x = x.columns\n",
        "x = scaler.fit_transform(x)\n",
        "x =pd.DataFrame(x, columns = columns_x)"
      ],
      "metadata": {
        "id": "zo1QHQP2pjhF"
      },
      "execution_count": null,
      "outputs": []
    },
    {
      "cell_type": "markdown",
      "source": [
        "load the model from the file."
      ],
      "metadata": {
        "id": "zECNcU-v_-k0"
      }
    },
    {
      "cell_type": "code",
      "source": [
        "loaded_model = pk.load(open(file_name, 'rb'))"
      ],
      "metadata": {
        "id": "jqCnA_Lm_99u"
      },
      "execution_count": null,
      "outputs": []
    },
    {
      "cell_type": "markdown",
      "source": [
        "Use the loaded model to make predictions on the test data."
      ],
      "metadata": {
        "id": "SyIEYtA_hDd_"
      }
    },
    {
      "cell_type": "code",
      "source": [
        "prediction = loaded_model.predict(x)"
      ],
      "metadata": {
        "id": "Ya-t7LPmsje6"
      },
      "execution_count": null,
      "outputs": []
    },
    {
      "cell_type": "markdown",
      "source": [
        "Calculate the mean absolute error of the predictions."
      ],
      "metadata": {
        "id": "KbZDuCY7g923"
      }
    },
    {
      "cell_type": "code",
      "source": [
        "mae = mean_absolute_error(y, prediction)\n",
        "print(f\"Mean Absolute Error: {mae}\")"
      ],
      "metadata": {
        "id": "GGL2BkHeszrV",
        "colab": {
          "base_uri": "https://localhost:8080/"
        },
        "outputId": "cad31f61-6016-4b2f-dce4-5536736a3466"
      },
      "execution_count": null,
      "outputs": [
        {
          "output_type": "stream",
          "name": "stdout",
          "text": [
            "Mean Absolute Error: 0.8202281062411619\n"
          ]
        }
      ]
    }
  ]
}